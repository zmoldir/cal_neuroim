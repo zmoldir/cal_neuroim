{
 "cells": [
  {
   "cell_type": "code",
   "execution_count": 1,
   "metadata": {
    "collapsed": false,
    "deletable": true,
    "editable": true
   },
   "outputs": [],
   "source": [
    "%matplotlib inline\n",
    "import numpy as np\n",
    "import matplotlib.pyplot as plt\n",
    "import pandas as pd\n",
    "import scipy.io as sio\n",
    "import time\n",
    "#import sima"
   ]
  },
  {
   "cell_type": "code",
   "execution_count": 2,
   "metadata": {
    "collapsed": false,
    "deletable": true,
    "editable": true
   },
   "outputs": [],
   "source": [
    "def loadmat(filename):\n",
    "    '''\n",
    "    this function should be called instead of direct spio.loadmat\n",
    "    as it cures the problem of not properly recovering python dictionaries\n",
    "    from mat files. It calls the function check keys to cure all entries\n",
    "    which are still mat-objects\n",
    "    \n",
    "    from: `StackOverflow <http://stackoverflow.com/questions/7008608/scipy-io-loadmat-nested-structures-i-e-dictionaries>`_\n",
    "    '''\n",
    "    data = sio.loadmat(filename, struct_as_record=False, squeeze_me=True)\n",
    "    return _check_keys(data)\n",
    "\n",
    "def _check_keys(dict):\n",
    "    '''\n",
    "    checks if entries in dictionary are mat-objects. If yes\n",
    "    todict is called to change them to nested dictionaries\n",
    "    '''\n",
    "    for key in dict:\n",
    "        if isinstance(dict[key], sio.matlab.mio5_params.mat_struct):\n",
    "            dict[key] = _todict(dict[key])\n",
    "    return dict        \n",
    "\n",
    "def _todict(matobj):\n",
    "    '''\n",
    "    A recursive function which constructs from matobjects nested dictionaries\n",
    "    '''\n",
    "    dict = {}\n",
    "    for strg in matobj._fieldnames:\n",
    "        elem = matobj.__dict__[strg]\n",
    "        if isinstance(elem, sio.matlab.mio5_params.mat_struct):\n",
    "            dict[strg] = _todict(elem)\n",
    "        else:\n",
    "            dict[strg] = elem\n",
    "    return dict\n",
    "\n",
    "def createBuckets2(true,deconvo, msWindow,hz):\n",
    "    '''\n",
    "    Difference to the one below:\n",
    "    instead of specifying the number of buckets, we specify the window size in ms'''\n",
    "    biggernum = max(deconvo.shape)\n",
    "    smallernum = min(deconvo.shape)\n",
    "    stepWidth = ((msWindow)/hz)\n",
    "    bucketnum = (biggernum/stepWidth)\n",
    "    deconvoBucket = np.zeros((smallernum,bucketnum))\n",
    "    for i,col in enumerate(deconvo.T):\n",
    "        for j in range(0,bucketnum):\n",
    "            deconvoBucket[i,j] = sum(col[j*stepWidth:j*stepWidth+stepWidth]) \n",
    "    #for i in deconvoBucket:\n",
    "    #    i[...] = map(float,(i/max(i)))\n",
    "\n",
    "    biggernum = max(true.shape)\n",
    "    smallernum = min(true.shape)\n",
    "    stepWidth = (biggernum/stepWidth)\n",
    "    \n",
    "    trueBucket = np.zeros((smallernum,bucketnum))\n",
    "    \n",
    "    for i,col in enumerate(true.T):\n",
    "        for j in range(0,bucketnum):\n",
    "            trueBucket[i,j] = sum(col[j*stepWidth:j*stepWidth+stepWidth])\n",
    "    #for i in trueBucket:\n",
    "    #    i[...] = map(float,(i / max(i)))\n",
    "\n",
    "    return(np.nan_to_num(trueBucket),np.nan_to_num(deconvoBucket))\n",
    "    \n",
    "def createBuckets (cai1result,cai1deconvo,bucketNumber):\n",
    "    \n",
    "    '''\n",
    "    take: actual spike train, deconvolved spike train, number of buckets \n",
    "    return: n x bucketsize matrix containing firing rates in buckets, relative to the max value per trace\n",
    "    '''\n",
    "    biggernum = max(cai1result.shape)\n",
    "    smallernum = min(cai1result.shape)\n",
    "    stepWidth = (biggernum)/bucketNumber\n",
    "    caiResultBucket = np.zeros((smallernum,bucketNumber))\n",
    "    for i,col in enumerate(cai1result.T):\n",
    "        for j in range(0,bucketNumber):\n",
    "            caiResultBucket[i,j] = sum(col[j*stepWidth:j*stepWidth+stepWidth]) \n",
    "    for i in caiResultBucket:\n",
    "        i[...] = map(float,(i/max(i)))\n",
    "\n",
    "    biggernum = max(cai1deconvo.shape)\n",
    "    smallernum = min(cai1deconvo.shape)\n",
    "    stepWidth = biggernum/bucketNumber\n",
    "    \n",
    "    caiDeconvoBucket = np.zeros((smallernum,bucketNumber))\n",
    "    \n",
    "    for i,col in enumerate(cai1deconvo.T):\n",
    "        for j in range(0,bucketNumber):\n",
    "            caiDeconvoBucket[i,j] = sum(col[j*stepWidth:j*stepWidth+stepWidth])\n",
    "    for i in caiDeconvoBucket:\n",
    "        i[...] = map(float,(i / max(i)))\n",
    "\n",
    "    return(np.nan_to_num(caiResultBucket),np.nan_to_num(caiDeconvoBucket))\n",
    "\n",
    "def _loadGiniFile(fileList,path):\n",
    "    apReturn = []\n",
    "    valueList = []\n",
    "    for cell in (fileList):\n",
    "        apCollumn = _todict(loadmat(path+cell.strip())['obj']['timeSeriesArrayHash']['value'][4])['valueMatrix']\n",
    "        valueCollumn = _todict(loadmat(path+cell.strip())['obj']['timeSeriesArrayHash']['value'][0])['valueMatrix']\n",
    "        valueList.append(valueCollumn)\n",
    "        stepwidth = len(apCollumn)/len(valueCollumn)\n",
    "        apList = []\n",
    "        \n",
    "        for pos in range(len(valueCollumn)):\n",
    "            thisStep = apCollumn[pos*stepwidth:pos*stepwidth+stepwidth]\n",
    "            #thisStep = thisStep[~np.isnan(thisStep)]\n",
    "            apList.append(sum(thisStep))\n",
    "        apReturn.append(apList)\n",
    "    caiFrame = pd.DataFrame(data=apReturn,index=range(len(apReturn)))\n",
    "    valueFrame = pd.DataFrame(data=valueList,index=range(len(valueList)))\n",
    "    return(valueFrame,caiFrame)\n",
    "\n",
    "def rankByIndex(inputList):\n",
    "    # return list of same length as input, ordered after size - biggest first, smallest last\n",
    "    returnList = []\n",
    "    inputList2 = list(inputList)\n",
    "    for i in range(len(inputList2)):\n",
    "        highPos = np.argmax(inputList2)\n",
    "        returnList.append(highPos)\n",
    "        inputList2[highPos] = 0\n",
    "    return(returnList)\n",
    "\n",
    "def _correlation(cell):\n",
    "    correlations = []\n",
    "    for i in range(len(cell[0])): #list1 and 2: list of lists of spike rates\n",
    "        correlations.append(np.corrcoef(cell[0][i],cell[1][i])[0][1])\n",
    "    return correlations"
   ]
  },
  {
   "cell_type": "markdown",
   "metadata": {
    "collapsed": false,
    "deletable": true,
    "editable": true
   },
   "source": [
    "Below: stuff to read the .mat files from akerboom and chen and put them in sub-files containing only AP\n",
    "or fluorescence data"
   ]
  },
  {
   "cell_type": "code",
   "execution_count": 214,
   "metadata": {
    "collapsed": false,
    "deletable": true,
    "editable": true
   },
   "outputs": [],
   "source": [
    "fileString5 = \"data_20120502_cell1_001.mat  data_20120502_cell4_002.mat  data_20120521_cell2_002.mat  data_20120521_cell4_003.mat  data_20120521_cell5_006.mat  data_20120502_cell1_002.mat  data_20120502_cell4_003.mat  data_20120521_cell2_003.mat  data_20120521_cell4_004.mat  data_20120521_cell5_007.mat  data_20120502_cell1_004.mat  data_20120510_cell1_001.mat  data_20120521_cell3_001.mat  data_20120521_cell4_005.mat  data_20120521_cell7_001.mat  data_20120502_cell1_005.mat  data_20120510_cell1_002.mat  data_20120521_cell3_002.mat  data_20120521_cell4_006.mat  data_20120521_cell7_002.mat  data_20120502_cell3_001.mat  data_20120521_cell10_002.mat  data_20120521_cell3_003.mat  data_20120521_cell4_007.mat  data_20120521_cell7_003.mat  data_20120502_cell3_002.mat  data_20120521_cell10_003.mat  data_20120521_cell3_004.mat  data_20120521_cell5_003.mat  data_20120502_cell3_003.mat  data_20120521_cell10_004.mat  data_20120521_cell3_005.mat  data_20120521_cell5_004.mat  data_20120502_cell4_001.mat  data_20120521_cell1_001.mat  data_20120521_cell4_002.mat  data_20120521_cell5_005.mat\".split(\"  \")\n",
    "path = \"/home/maximilian/unistuff/paris_ens/cal_neuroim/testData/cai-1/GCaMP6f_11cells_Chen2013/\"\n",
    "\n",
    "#amItooSmart = _loadGiniFile(fileString5,path)\n",
    "amItooSmart[1].to_csv(\"/home/maximilian/unistuff/paris_ens/cal_neuroim/testData/cai-1/11ChenAPs\",sep=\" \",float_format='%i')"
   ]
  },
  {
   "cell_type": "markdown",
   "metadata": {
    "deletable": true,
    "editable": true
   },
   "source": [
    "Below: stuff to read AP trains and deconvoluted ap trains and do some analyses on them"
   ]
  },
  {
   "cell_type": "markdown",
   "metadata": {
    "deletable": true,
    "editable": true
   },
   "source": [
    "Below: kicking difficult (read as: borderline ridiculous) data"
   ]
  },
  {
   "cell_type": "code",
   "execution_count": 41,
   "metadata": {
    "collapsed": false,
    "deletable": true,
    "editable": true
   },
   "outputs": [],
   "source": [
    "outFileList = [\"/home/maximilian/unistuff/paris_ens/cal_neuroim/testData/output/9chenDeconvo\",\n",
    "               \"/home/maximilian/unistuff/paris_ens/cal_neuroim/testData/output/11chenDeconvo\",\n",
    "               \"/home/maximilian/unistuff/paris_ens/cal_neuroim/testData/output/akerboomDeconvo\",\n",
    "               \"/home/maximilian/unistuff/paris_ens/cal_neuroim/testData/output/campDeconvo\",\n",
    "               \"/home/maximilian/unistuff/paris_ens/cal_neuroim/testData/output/gecoDeconvo\",]\n",
    "\n",
    "chen9Ap = pd.read_csv(\"/home/maximilian/unistuff/paris_ens/cal_neuroim/testData/cai-1/9ChenAPs\",sep=\" \").fillna(0).astype(int).as_matrix().transpose()\n",
    "#chen9Deconvo = pd.read_csv(\"/home/maximilian/unistuff/paris_ens/cal_neuroim/testData/output/9chenDeconvo\",sep=\" \").fillna(0).astype(int).as_matrix()\n",
    "chen9Deconvo = pd.read_csv(outFileList[0],sep=\" \").fillna(0).astype(int).as_matrix()\n",
    "\n",
    "chen11Ap = pd.read_csv(\"/home/maximilian/unistuff/paris_ens/cal_neuroim/testData/cai-1/11ChenAPs\",sep=\" \").fillna(0).astype(int).as_matrix().transpose()\n",
    "#chen11Deconvo = pd.read_csv(\"/home/maximilian/unistuff/paris_ens/cal_neuroim/testData/output/11chenDeconvo\",sep=\" \").fillna(0).astype(int).as_matrix()\n",
    "chen11Deconvo = pd.read_csv(outFileList[1],sep=\" \").fillna(0).astype(int).as_matrix()\n",
    "\n",
    "akerboomAp = pd.read_csv(\"/home/maximilian/unistuff/paris_ens/cal_neuroim/testData/cai-1/akerboomAPs\",sep=\" \").fillna(0).astype(int).as_matrix()\n",
    "#akerboomDeconvo = pd.read_csv(\"/home/maximilian/unistuff/paris_ens/cal_neuroim/testData/output/akerboomDeconvo\",sep=\" \").fillna(0).astype(int).as_matrix()\n",
    "akerboomDeconvo = pd.read_csv(outFileList[2],sep=\" \").fillna(0).astype(int).as_matrix()\n",
    "\n",
    "campAp =  pd.read_csv(\"/home/maximilian/unistuff/paris_ens/cal_neuroim/testData/cai-2/cai2_CAMP_full_aps.csv\",sep=\" \").fillna(0).astype(int).as_matrix().transpose()\n",
    "#campDeconvo = pd.read_csv(\"/home/maximilian/unistuff/paris_ens/cal_neuroim/testData/output/campDeconvo\",sep=\" \").fillna(0).astype(int).as_matrix()\n",
    "campDeconvo = pd.read_csv(outFileList[3],sep=\" \").fillna(0).astype(int).as_matrix()\n",
    "\n",
    "gecoAp=  pd.read_csv(\"/home/maximilian/unistuff/paris_ens/cal_neuroim/testData/cai-2/cai2_GECO_full_aps.csv\",sep=\" \").fillna(0).astype(int).as_matrix().transpose()\n",
    "#gecoDeconvo = pd.read_csv(\"/home/maximilian/unistuff/paris_ens/cal_neuroim/testData/output/gecoDeconvo\",sep=\" \").fillna(0).astype(int).as_matrix()\n",
    "gecoDeconvo = pd.read_csv(outFileList[4],sep=\" \").fillna(0).astype(int).as_matrix()\n",
    "\n",
    "chen9Ap= np.delete(chen9Ap,0,1)\n",
    "chen9Ap = np.delete(chen9Ap,[14399,14400],0)\n",
    "chen9Deconvo = np.delete(chen9Deconvo,0,1)\n",
    "\n",
    "chenDelete = [17,16,15,12]\n",
    "chen11Ap = np.delete(chen11Ap,chenDelete,1)\n",
    "chen11Ap = np.delete(chen11Ap,[14399,14400],0)\n",
    "chen11Deconvo= np.delete(chen11Deconvo,chenDelete,1)\n",
    "\n",
    "campDelete= [18,17,7,4,3,2]\n",
    "campDelete2 = [4805-i for i in range(1,7)]\n",
    "campAp = np.delete(campAp,campDelete,1)\n",
    "campDeconvo = np.delete(campDeconvo,campDelete,1)\n",
    "campAp = np.delete(campAp,campDelete2,0)\n",
    "\n",
    "gecoDelete = [8,5,3]\n",
    "gecoDelete2 = [9610-i for i in range(1,12)]\n",
    "gecoAp = np.delete(gecoAp,gecoDelete,1)\n",
    "gecoAp = np.delete(gecoAp,gecoDelete2,0)\n",
    "gecoDeconvo = np.delete(gecoDeconvo,gecoDelete,1)"
   ]
  },
  {
   "cell_type": "code",
   "execution_count": 42,
   "metadata": {
    "collapsed": false,
    "deletable": true,
    "editable": true
   },
   "outputs": [
    {
     "name": "stdout",
     "output_type": "stream",
     "text": [
      "chen9:  0.150725503085\n",
      "chen11:  0.0895626166582\n",
      "akerboom:  0.45167133686\n",
      "camp:  0.135840265802\n",
      "geco:  0.192853950632\n"
     ]
    }
   ],
   "source": [
    "akerboomBucket=createBuckets(akerboomAp,akerboomDeconvo,411)\n",
    "\n",
    "bucket = 1000\n",
    "campBucket=createBuckets(campAp,campDeconvo,bucket)\n",
    "gecoBucket=createBuckets(gecoAp,gecoDeconvo,bucket)\n",
    "chen9bucket = createBuckets(chen9Ap,chen9Deconvo,bucket)\n",
    "chen11bucket = createBuckets(chen11Ap,chen11Deconvo,bucket)\n",
    "\n",
    "print \"chen9: \" , np.mean(_correlation(chen9bucket))\n",
    "print \"chen11: \" , np.mean(_correlation(chen11bucket))\n",
    "print \"akerboom: \" , np.mean(_correlation(akerboomBucket))\n",
    "print \"camp: \" , np.mean(_correlation(campBucket))\n",
    "print \"geco: \" , np.mean(_correlation(gecoBucket))"
   ]
  },
  {
   "cell_type": "code",
   "execution_count": 9,
   "metadata": {
    "collapsed": false,
    "deletable": true,
    "editable": true,
    "scrolled": true
   },
   "outputs": [
    {
     "ename": "NameError",
     "evalue": "name 'gecoCorrList' is not defined",
     "output_type": "error",
     "traceback": [
      "\u001b[0;31m---------------------------------------------------------------------------\u001b[0m",
      "\u001b[0;31mNameError\u001b[0m                                 Traceback (most recent call last)",
      "\u001b[0;32m<ipython-input-9-c6d7242c5867>\u001b[0m in \u001b[0;36m<module>\u001b[0;34m()\u001b[0m\n\u001b[1;32m      2\u001b[0m     \u001b[0mgecoBucket\u001b[0m\u001b[0;34m=\u001b[0m\u001b[0mcreateBuckets\u001b[0m\u001b[0;34m(\u001b[0m\u001b[0mgecoAp\u001b[0m\u001b[0;34m,\u001b[0m\u001b[0mgecoDeconvo\u001b[0m\u001b[0;34m,\u001b[0m\u001b[0mi\u001b[0m\u001b[0;34m)\u001b[0m\u001b[0;34m\u001b[0m\u001b[0m\n\u001b[1;32m      3\u001b[0m     \u001b[0mcampBucket\u001b[0m\u001b[0;34m=\u001b[0m\u001b[0mcreateBuckets\u001b[0m\u001b[0;34m(\u001b[0m\u001b[0mcampAp\u001b[0m\u001b[0;34m,\u001b[0m\u001b[0mcampDeconvo\u001b[0m\u001b[0;34m,\u001b[0m\u001b[0mi\u001b[0m\u001b[0;34m)\u001b[0m\u001b[0;34m\u001b[0m\u001b[0m\n\u001b[0;32m----> 4\u001b[0;31m     \u001b[0mgecoCorrList\u001b[0m\u001b[0;34m.\u001b[0m\u001b[0mappend\u001b[0m\u001b[0;34m(\u001b[0m\u001b[0mnp\u001b[0m\u001b[0;34m.\u001b[0m\u001b[0mmean\u001b[0m\u001b[0;34m(\u001b[0m\u001b[0m_correlation\u001b[0m\u001b[0;34m(\u001b[0m\u001b[0mgecoBucket\u001b[0m\u001b[0;34m)\u001b[0m\u001b[0;34m)\u001b[0m\u001b[0;34m)\u001b[0m\u001b[0;34m\u001b[0m\u001b[0m\n\u001b[0m\u001b[1;32m      5\u001b[0m     \u001b[0mcampCorrList\u001b[0m\u001b[0;34m.\u001b[0m\u001b[0mappend\u001b[0m\u001b[0;34m(\u001b[0m\u001b[0mnp\u001b[0m\u001b[0;34m.\u001b[0m\u001b[0mmean\u001b[0m\u001b[0;34m(\u001b[0m\u001b[0m_correlation\u001b[0m\u001b[0;34m(\u001b[0m\u001b[0mcampBucket\u001b[0m\u001b[0;34m)\u001b[0m\u001b[0;34m)\u001b[0m\u001b[0;34m)\u001b[0m\u001b[0;34m\u001b[0m\u001b[0m\n\u001b[1;32m      6\u001b[0m \u001b[0msteps\u001b[0m \u001b[0;34m=\u001b[0m \u001b[0;36m99\u001b[0m\u001b[0;34m\u001b[0m\u001b[0m\n",
      "\u001b[0;31mNameError\u001b[0m: name 'gecoCorrList' is not defined"
     ]
    }
   ],
   "source": [
    "for i in range(40,500,20):\n",
    "    gecoBucket=createBuckets(gecoAp,gecoDeconvo,i)\n",
    "    campBucket=createBuckets(campAp,campDeconvo,i)\n",
    "    gecoCorrList.append(np.mean(_correlation(gecoBucket)))\n",
    "    campCorrList.append(np.mean(_correlation(campBucket)))\n",
    "steps = 99\n",
    "akerboomMatrix = np.zeros((9,len(range(100,1000,steps))))\n",
    "counter = 0\n",
    "for i in range(100,1000,steps):\n",
    "    akerboomBucket = createBuckets(akerboomAp,akerboomDeconvo,i)\n",
    "    akerboomMatrix[:,counter] = (_correlation(akerboomBucket))\n",
    "    counter += 1\n",
    "\n",
    "for num,i in enumerate(akerboomMatrix[:,]):\n",
    "    if (num == 0 or num == 2):\n",
    "        continue\n",
    "    plt.plot(range(100,1000,steps),i)\n",
    "    plt.xlabel('Number of bins total spread over the trace')\n",
    "    plt.ylabel('Pearson correlation coefficient')\n",
    "plt.show()"
   ]
  },
  {
   "cell_type": "code",
   "execution_count": 7,
   "metadata": {
    "collapsed": false,
    "deletable": true,
    "editable": true
   },
   "outputs": [
    {
     "name": "stdout",
     "output_type": "stream",
     "text": [
      " [0.26404908236145702, 0.71511884819874216, 0.38927216901458167, 0.51597806613895247, 0.42539961643032614, 0.34087896473762086, 0.25985028736289928, 0.37595923131094294, 0.33007814153824444]\n"
     ]
    }
   ],
   "source": [
    "akerboomTest = createBuckets(akerboomAp,akerboomDeconvo,170)\n",
    "print _correlation(akerboomBucket)"
   ]
  },
  {
   "cell_type": "markdown",
   "metadata": {
    "deletable": true,
    "editable": true
   },
   "source": [
    "Reduce arrays to be binary and get their AUC scores"
   ]
  },
  {
   "cell_type": "code",
   "execution_count": 52,
   "metadata": {
    "collapsed": false,
    "deletable": true,
    "editable": true
   },
   "outputs": [
    {
     "data": {
      "image/png": "[encoded data removed]",
      "text/plain": [
       "<matplotlib.figure.Figure at 0x7f0878b65590>"
      ]
     },
     "metadata": {},
     "output_type": "display_data"
    },
    {
     "name": "stdout",
     "output_type": "stream",
     "text": [
      "0.611111111111\n"
     ]
    }
   ],
   "source": [
    "from sklearn import metrics as met\n",
    "testGecoTrue = map(lambda x: 1 if x >0 else 0,gecoBucket[1][:,0])\n",
    "testGecoDec = gecoBucket[0][:,0]\n",
    "fpr, tpr, threshold = met.roc_curve(testGecoTrue,testGecoDec)\n",
    "auc = met.auc(fpr,tpr)\n",
    "plt.plot(fpr,tpr)\n",
    "plt.show()\n",
    "print auc"
   ]
  },
  {
   "cell_type": "code",
   "execution_count": 190,
   "metadata": {
    "collapsed": false,
    "deletable": true,
    "editable": true
   },
   "outputs": [
    {
     "name": "stdout",
     "output_type": "stream",
     "text": [
      "0.052226702842\n",
      "0.101591067354\n",
      "0.206328032197\n",
      "0.330757720494\n"
     ]
    }
   ],
   "source": [
    "bucketNumber = 411\n",
    "cell1bucket = createBuckets(cell1ap,cell1deconvo,bucketNumber)\n",
    "cell2bucket= createBuckets(cell2ap,cell2deconvo,bucketNumber)\n",
    "cell3bucket = createBuckets(cell3ap,cell3deconvo,bucketNumber)\n",
    "cell4bucket= createBuckets(cell4ap,cell4deconvo,bucketNumber)\n",
    "cell5bucket = createBuckets(cell5ap,cell5deconvo,bucketNumber)\n",
    "cell7bucket= createBuckets(cell7ap,cell7deconvo,bucketNumber)\n",
    "cell10bucket = createBuckets(cell10ap,cell10deconvo,bucketNumber)\n",
    "\n",
    "chen9bucket1 = createBuckets(chen9ap1,chen9deconvo1,bucketNumber)\n",
    "chen9bucket2 = createBuckets(chen9ap2,chen9deconvo2,bucketNumber)\n",
    "chen9bucket3 = createBuckets(chen9ap3,chen9deconvo3,bucketNumber)\n",
    "chen9bucket4 = createBuckets(chen9ap4,chen9deconvo4,bucketNumber)\n",
    "\n",
    "bucketNumber = 342\n",
    "akerboom1bucket = createBuckets(akerboom1ap,akerboom1deconvo,bucketNumber)\n",
    "akerboom2bucket = createBuckets(akerboom2ap,akerboom2deconvo,bucketNumber)\n",
    "akerboom3bucket = createBuckets(akerboom3ap,akerboom3deconvo,bucketNumber)\n",
    "akerboom4bucket = createBuckets(akerboom4ap,akerboom4deconvo,bucketNumber)\n",
    "\n",
    "chen9correlations = [_correlation(chen9bucket1),_correlation(chen9bucket2),_correlation(chen9bucket3),_correlation(chen9bucket4)]\n",
    "akerboomcorrelations = [_correlation(akerboom1bucket),_correlation(akerboom2bucket),_correlation(akerboom3bucket),_correlation(akerboom4bucket)]\n",
    "chen11correlations= [_correlation(cell1bucket),_correlation(cell2bucket),_correlation(cell3bucket), _correlation(cell4bucket),_correlation(cell5bucket),_correlation(cell7bucket),_correlation(cell10bucket)]\n",
    "\n",
    "chen11Score,chen9Score,akerboomScore = [],[],[]\n",
    "\n",
    "for i in akerboomcorrelations:\n",
    "    akerboomScore.append(np.mean(i))    \n",
    "for i in chen9correlations:\n",
    "    chen9Score.append(np.mean(i))\n",
    "for i in chen11correlations:\n",
    "    chen11Score.append(np.mean(i))\n",
    "#print np.mean([np.mean(akerboomScore),np.mean(chen9Score),np.mean(chen11Score)])\n",
    "\n"
   ]
  },
  {
   "cell_type": "code",
   "execution_count": 4,
   "metadata": {
    "collapsed": false,
    "deletable": true,
    "editable": true,
    "scrolled": true
   },
   "outputs": [
    {
     "name": "stdout",
     "output_type": "stream",
     "text": [
      "[2.3915829881053261, 1.8680632630410656, 2.2735240865339685, 2.1935064315507149, 2.9948563899868246, 2.7600161276631865, 2.5530515975480848] 2.43351441206\n",
      "[1229, 1074, 649, 517, 514, 316, 230]\n",
      "[3, 0, 2, 4, 6, 5, 1]\n",
      "___________\n",
      "[586, 565, 250, 227, 181, 121, 120]\n",
      "[3, 0, 2, 6, 4, 1, 5]\n"
     ]
    }
   ],
   "source": [
    "trueList = [sum(i) for i in[cell1ap,cell2ap,cell3ap,cell4ap,cell5ap,cell7ap,cell10ap]]\n",
    "decList = [sum(i) for i in [cell1deconvo,cell2deconvo,cell3deconvo,cell4deconvo,cell5deconvo,cell7deconvo,cell10deconvo]]\n",
    "ratios = [np.true_divide(trueList[i],decList[i]) for i in range(len(trueList))]\n",
    "meanRatios = []\n",
    "for i in ratios:\n",
    "    meanRatios.append(np.mean(i))\n",
    "print meanRatios, np.mean(meanRatios)\n",
    "\n",
    "trueListSum = []\n",
    "decListSum = []\n",
    "\n",
    "for i in range(7):\n",
    "    trueListSum.append(sum(trueList[i]))\n",
    "    decListSum.append(sum(decList[i]))\n",
    "\n",
    "trueIndexList = rankByIndex(trueListSum)\n",
    "decIndexList = rankByIndex(decListSum)\n",
    "orderedTrueList = [trueListSum[i] for i in trueIndexList]\n",
    "orderedDecList = [decListSum[i] for i in decIndexList]\n",
    "\n",
    "print orderedTrueList\n",
    "print trueIndexList\n",
    "print '___________'\n",
    "print orderedDecList\n",
    "print decIndexList"
   ]
  },
  {
   "cell_type": "code",
   "execution_count": 15,
   "metadata": {
    "collapsed": false,
    "deletable": true,
    "editable": true
   },
   "outputs": [],
   "source": [
    "set1deconvo = pd.read_csv(\"/home/maximilian/unistuff/paris_ens/cal_neuroim/testData/deconvo1.csv\",sep=' ').fillna(0).astype(int).as_matrix()\n",
    "set2deconvo = pd.read_csv(\"/home/maximilian/unistuff/paris_ens/cal_neuroim/testData/deconvo2.csv\",sep=' ').fillna(0).astype(int).as_matrix()\n",
    "set4deconvo = pd.read_csv(\"/home/maximilian/unistuff/paris_ens/cal_neuroim/testData/deconvo4.csv\",sep=' ').fillna(0).astype(int).as_matrix()\n",
    "set5deconvo = pd.read_csv(\"/home/maximilian/unistuff/paris_ens/cal_neuroim/testData/deconvo10.csv\",sep=' ').fillna(0).astype(int).as_matrix()\n",
    "setHalfdeconvo = pd.read_csv('/home/maximilian/unistuff/paris_ens/cal_neuroim/testData/deconvoHalf.csv',sep=' ').fillna(0).astype(int).as_matrix()\n",
    "set1ap = pd.read_csv(\"/home/maximilian/unistuff/paris_ens/cal_neuroim/simdata/aps1\",sep=',').fillna(0).astype(int).as_matrix()\n",
    "set2ap = pd.read_csv(\"/home/maximilian/unistuff/paris_ens/cal_neuroim/simdata/aps2\",sep=',').fillna(0).astype(int).as_matrix()\n",
    "set4ap = pd.read_csv(\"/home/maximilian/unistuff/paris_ens/cal_neuroim/simdata/aps4\",sep=',').fillna(0).astype(int).as_matrix()\n",
    "set5ap = pd.read_csv(\"/home/maximilian/unistuff/paris_ens/cal_neuroim/simdata/aps10\",sep=',').fillna(0).astype(int).as_matrix()\n",
    "setHalfap = pd.read_csv(\"/home/maximilian/unistuff/paris_ens/cal_neuroim/simdata/apsHalf\",sep=',').fillna(0).astype(int).as_matrix()"
   ]
  },
  {
   "cell_type": "code",
   "execution_count": 168,
   "metadata": {
    "collapsed": true,
    "deletable": true,
    "editable": true
   },
   "outputs": [],
   "source": [
    "deconvo50 = pd.read_csv(\"/home/maximilian/unistuff/paris_ens/cal_neuroim/simdata/foldChanges/deconvo1\",sep=' ').fillna(0).astype(int).as_matrix()\n",
    "deconvo55 = pd.read_csv(\"/home/maximilian/unistuff/paris_ens/cal_neuroim/simdata/foldChanges/deconvo2\",sep=' ').fillna(0).astype(int).as_matrix()\n",
    "deconvo60 = pd.read_csv(\"/home/maximilian/unistuff/paris_ens/cal_neuroim/simdata/foldChanges/deconvo3\",sep=' ').fillna(0).astype(int).as_matrix()\n",
    "deconvo65 = pd.read_csv(\"/home/maximilian/unistuff/paris_ens/cal_neuroim/simdata/foldChanges/deconvo4\",sep=' ').fillna(0).astype(int).as_matrix()\n",
    "deconvo70 = pd.read_csv(\"/home/maximilian/unistuff/paris_ens/cal_neuroim/simdata/foldChanges/deconvo5\",sep=' ').fillna(0).astype(int).as_matrix()"
   ]
  },
  {
   "cell_type": "code",
   "execution_count": 170,
   "metadata": {
    "collapsed": false,
    "deletable": true,
    "editable": true
   },
   "outputs": [
    {
     "name": "stdout",
     "output_type": "stream",
     "text": [
      "[1, 3, 2, 0, 4]\n",
      "[4, 3, 2, 1, 0]\n"
     ]
    }
   ],
   "source": [
    "decList = [np.sum(deconvo50),np.sum(deconvo55),np.sum(deconvo60),np.sum(deconvo65),np.sum(deconvo70),]\n",
    "realList = np.multiply(apList2,20)\n",
    "print rankByIndex(decList)\n",
    "print rankByIndex(realList)"
   ]
  },
  {
   "cell_type": "code",
   "execution_count": 18,
   "metadata": {
    "collapsed": false,
    "deletable": true,
    "editable": true,
    "scrolled": true
   },
   "outputs": [
    {
     "name": "stdout",
     "output_type": "stream",
     "text": [
      "[ 54  23  72 138  55  67  63  76  26  37  61  64  37  95  37  48  51  22\n",
      "  47  25]\n",
      "[3, 13, 7, 2, 5, 11, 6, 10, 4, 0, 16, 15, 18, 9, 12, 14, 8, 19, 1, 17]\n",
      "[  39  122  363 2362  412   31  402  707  304  118  457  292  178  351   95\n",
      "  278  374  164   78   37]\n",
      "[3, 7, 10, 4, 6, 16, 2, 13, 8, 11, 15, 12, 17, 1, 9, 14, 18, 0, 19, 5]\n"
     ]
    }
   ],
   "source": [
    "deconvoActivities = [np.sum(cell9deconvo),np.sum(cell11deconvo),np.sum(cai1deconvo),np.sum(campdeconvo),np.sum(gecodeconvo)]\n",
    "realActivities = [np.sum(cell9ap),np.sum(cell11ap),np.sum(cai1result),np.sum(campaps),np.sum(gecoaps)]\n",
    "#gecoaps = np.delete(gecoaps.T,[3,5,8,19],axis=0).T\n",
    "cell9activities = sum(gecodeconvo)\n",
    "cell9real = sum(gecoaps)\n",
    "\n",
    "print cell9activities\n",
    "print rankByIndex(cell9activities)\n",
    "print cell9real\n",
    "print rankByIndex(cell9real)"
   ]
  },
  {
   "cell_type": "code",
   "execution_count": 19,
   "metadata": {
    "collapsed": false,
    "deletable": true,
    "editable": true
   },
   "outputs": [
    {
     "name": "stdout",
     "output_type": "stream",
     "text": [
      "________________________\n",
      "________________________\n",
      "________________________\n",
      "________________________\n"
     ]
    }
   ],
   "source": [
    "plt.imshow(cai1Buckets[0], cmap='hot', interpolation='spline16')\n",
    "plt.xlabel(\"AP sum over 600 frames\")\n",
    "plt.ylabel(\"Cell/ROI number\")\n",
    "plt.title(\"cai1_9cell12\")\n",
    "plt.savefig(\"cai1_9cell12true.png\")\n",
    "plt.close()\n",
    "plt.imshow(cai1Buckets[1], cmap='hot', interpolation='spline16')\n",
    "plt.ylabel(\"Cell/ROI number\")\n",
    "plt.xlabel(\"AP sum over \")\n",
    "plt.savefig(\"cai1_9cell12deconvo.png\")\n",
    "plt.close()\n",
    "\n",
    "print '________________________'\n",
    "plt.imshow(campBuckets[0], cmap='hot', interpolation='spline16')\n",
    "plt.xlabel(\"AP sum over 240 frames\")\n",
    "plt.ylabel(\"Cell/ROI number\")\n",
    "plt.title(\"cai2, camp\")\n",
    "plt.savefig(\"cai2_camptrue.png\")\n",
    "plt.close()\n",
    "plt.imshow(campBuckets[1], cmap='hot', interpolation='spline16')\n",
    "plt.savefig(\"cai2_campdeconvo.png\")\n",
    "plt.close()\n",
    "print '________________________'\n",
    "plt.imshow(gecoBuckets[0], cmap='hot', interpolation='spline16')\n",
    "plt.xlabel(\"AP sum over 480 frames\")\n",
    "plt.title(\"cai2, geco\")\n",
    "plt.ylabel(\"Cell/ROI number\")\n",
    "plt.savefig(\"cai2_gecotrue.png\")\n",
    "plt.close()\n",
    "plt.imshow(gecoBuckets[1], cmap='hot', interpolation='spline16')\n",
    "plt.savefig(\"cai2_gecodeconvo.png\")\n",
    "plt.close()\n",
    "print '________________________'\n",
    "plt.imshow(cell9resultBucket, cmap='hot', interpolation='spline16')\n",
    "plt.xlabel(\"AP sum over 480 frames\")\n",
    "plt.ylabel(\"Cell/ROI number\")\n",
    "plt.title(\"cell9, electrode vs. deconvo\")\n",
    "plt.savefig(\"cai1_9cell13true.png\")\n",
    "plt.close()\n",
    "plt.imshow(cell9deconvoBucket, cmap='hot', interpolation='spline16')\n",
    "plt.savefig(\"cai1_9cell13deconvo.png\")\n",
    "plt.close()\n",
    "\n",
    "print '________________________'\n",
    "plt.imshow(cell11resultBucket, cmap='hot', interpolation='spline16')\n",
    "plt.xlabel(\"AP sum over 480 frames\")\n",
    "plt.ylabel(\"Cell/ROI number\")\n",
    "plt.title(\"cell11, electrode vs. deconvo\")\n",
    "plt.savefig(\"cai1_11cell13true.png\")\n",
    "plt.close()\n",
    "plt.imshow(cell11deconvoBucket, cmap='hot', interpolation='spline16')\n",
    "plt.savefig(\"cai1_11cell13deconvo.png\")\n",
    "plt.close()\n"
   ]
  },
  {
   "cell_type": "code",
   "execution_count": 126,
   "metadata": {
    "collapsed": false,
    "deletable": true,
    "editable": true,
    "scrolled": true
   },
   "outputs": [],
   "source": [
    "#code used for creation of set1 of simulated data\n",
    "\n",
    "def alphaKernel (t, A,t_A,t_B):\n",
    "    return np.float64(A*(np.exp(-t/t_A)-np.exp(-t/t_B)))\n",
    "\n",
    "\n",
    "simFiles = ['/home/maximilian/unistuff/paris_ens/cal_neuroim/simdata/foldChanges/facHalf',\n",
    "            '/home/maximilian/unistuff/paris_ens/cal_neuroim/simdata/foldChanges/fac1',\n",
    "           '/home/maximilian/unistuff/paris_ens/cal_neuroim/simdata/foldChanges/fac1.5',\n",
    "            '/home/maximilian/unistuff/paris_ens/cal_neuroim/simdata/foldChanges/fac2',\n",
    "           '/home/maximilian/unistuff/paris_ens/cal_neuroim/simdata/foldChanges/fac2.5']\n",
    "apList2 = [150,180,210,240,270]\n",
    "\n",
    "for x in range(len(simFiles)):\n",
    "    xMatrix = np.ndarray(shape=(100000,9),dtype='float32')\n",
    "    apMatrix = np.zeros(shape=(100000,9),dtype='int')\n",
    "    apList = []\n",
    "    pos = -1\n",
    "    for i in np.nditer(xMatrix,order='F',flags=['external_loop'],op_flags=['writeonly']):\n",
    "        pos += 1\n",
    "        localAPlist = []\n",
    "        xtest = np.repeat(400,100000.)\n",
    "        xnoise = 80. * np.random.normal(size = xtest.size)\n",
    "        #xDrift = np.concatenate((np.arange(2000,0,-1),np.repeat(0,3000)))\n",
    "        xtest = xtest +xnoise\n",
    "        #apNumber = int(np.random.normal(loc=4,scale = 2)*0.5*i)\n",
    "        apNumber = apList2[x]\n",
    "        for j in range(apNumber):\n",
    "            xdata = np.arange(0,int(400*np.random.normal(loc=1,scale=0.3)),1.)\n",
    "            y = (alphaKernel(xdata,np.random.normal(loc=5,scale=0.3) * 400,\n",
    "                            30* np.random.normal(loc=4,scale=1),10*np.random.normal(loc=4,scale=1)))\n",
    "            APposition = int(np.random.sample(size=1)* 99000)\n",
    "            apMatrix[APposition][pos] += 1\n",
    "            APend = APposition + y.size \n",
    "            if(APend > xtest.size):\n",
    "                y.resize(xtest.size-APposition)\n",
    "            xtest[APposition:APend] = xtest[APposition:APend] + y\n",
    "            if (APend < 99000 and xtest[APend] - xtest[APend+1] > 80 ):\n",
    "                corrector = np.arange(xtest[APend] - xtest[APend+1],0,-10)\n",
    "                if(APend+ corrector.size > xtest.size):\n",
    "                    corrector.resize(xtest.size-APend)\n",
    "                xtest[APend:APend+corrector.size] = xtest[APend:APend+corrector.size] + corrector\n",
    "        i[...] = xtest\n",
    "        apList.append(sorted(localAPlist))\n",
    "\n",
    "    np.savetxt(simFiles[x],xMatrix,delimiter=',',fmt='%4.6f')\n",
    "\n",
    "    #np.savetxt('/home/maximilian/unistuff/paris_ens/cal_neuroim/simdata/apsHalf',apMatrix,delimiter=',',fmt='%1.f')"
   ]
  },
  {
   "cell_type": "code",
   "execution_count": 21,
   "metadata": {
    "collapsed": false,
    "deletable": true,
    "editable": true
   },
   "outputs": [
    {
     "data": {
      "image/png": "[encoded data removed]",
      "text/plain": [
       "<matplotlib.figure.Figure at 0x7f2dad75a110>"
      ]
     },
     "metadata": {},
     "output_type": "display_data"
    },
    {
     "name": "stdout",
     "output_type": "stream",
     "text": [
      "40.0203020717 10.0975278192\n"
     ]
    }
   ],
   "source": [
    "import matplotlib.pyplot as plt\n",
    "test = np.zeros(10000)\n",
    "for i in range(10000):\n",
    "    test[i] = 10*np.random.normal(loc=4,scale=1)\n",
    "plt.hist(test,bins=100)\n",
    "plt.show()\n",
    "print np.mean(test), np.std(test)"
   ]
  },
  {
   "cell_type": "code",
   "execution_count": 164,
   "metadata": {
    "collapsed": false,
    "deletable": true,
    "editable": true
   },
   "outputs": [
    {
     "name": "stdout",
     "output_type": "stream",
     "text": [
      "[0, 2, 4, 6, 8, 10, 12, 14, 16, 18, 20, 22, 24, 26, 28, 30, 32, 34, 36, 38]\n"
     ]
    }
   ],
   "source": [
    "testrange = range(20)\n",
    "for i,val in enumerate(testrange):\n",
    "    testrange[i] += \n",
    "print testrange"
   ]
  },
  {
   "cell_type": "code",
   "execution_count": 43,
   "metadata": {
    "collapsed": false,
    "deletable": true,
    "editable": true,
    "scrolled": true
   },
   "outputs": [
    {
     "name": "stdout",
     "output_type": "stream",
     "text": [
      "[1835.7959987054762, 2231.5499289338036, 2016.5688714369714, 1844.6903180244822, 2248.072070418118] [77.49949957132353, 113.24314477317957, 144.74707480478946, 102.13289336427091, 147.8347101632229] [54.98610979846562, 34.982240911390775, 53.89255332087763, 23.90595014254043, 41.40430022612339]\n"
     ]
    },
    {
     "data": {
      "image/png": "[encoded data removed]",
      "text/plain": [
       "<matplotlib.figure.Figure at 0x7fee9a1e8e50>"
      ]
     },
     "metadata": {},
     "output_type": "display_data"
    }
   ],
   "source": [
    "set1,set2,set3 = list(),list(),list()\n",
    "for i in range(5):\n",
    "    xdata = np.arange(0,int(500*np.random.normal(loc=1,scale=0.3)),1.)\n",
    "    set1.append(400*np.random.normal(loc=5,scale=0.3))\n",
    "    set2.append(30* np.random.normal(loc=4,scale=1))\n",
    "    set3.append(10*np.random.normal(loc=4,scale=1))\n",
    "    y = (alphaKernel(xdata,set1[i],set2[i],set3[i]))\n",
    "    plt.plot(y,'grey',alpha=0.4)\n",
    "plt.xlabel(\"Time elapsed(in frames)\")\n",
    "plt.ylabel(\"Relative fluorescence signal(normalized)\")\n",
    "plt.savefig('alphakernel')\n",
    "print set1,set2,set3"
   ]
  }
 ],
 "metadata": {
  "kernelspec": {
   "display_name": "Python 2",
   "language": "python",
   "name": "python2"
  },
  "language_info": {
   "codemirror_mode": {
    "name": "ipython",
    "version": 2
   },
   "file_extension": ".py",
   "mimetype": "text/x-python",
   "name": "python",
   "nbconvert_exporter": "python",
   "pygments_lexer": "ipython2",
   "version": "2.7.6"
  }
 },
 "nbformat": 4,
 "nbformat_minor": 2
}
