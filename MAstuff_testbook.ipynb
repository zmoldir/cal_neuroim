{
 "cells": [
  {
   "cell_type": "code",
   "execution_count": 2,
   "metadata": {
    "collapsed": false,
    "deletable": true,
    "editable": true
   },
   "outputs": [],
   "source": [
    "%matplotlib inline\n",
    "import numpy as np\n",
    "import matplotlib.pyplot as plt\n",
    "import pandas as pd\n",
    "import scipy.io as sio\n",
    "import time\n",
    "#import sima"
   ]
  },
  {
   "cell_type": "code",
   "execution_count": 55,
   "metadata": {
    "collapsed": false
   },
   "outputs": [
    {
     "name": "stdout",
     "output_type": "stream",
     "text": [
      "[ 0 10 20 30 40]\n",
      "[[ nan  10.  10.  10.  10.]]\n"
     ]
    }
   ],
   "source": [
    "def _meanSlope(inArray):\n",
    "    '''\n",
    "    Given a time series, return the slope (which only depends on the start and end point)\n",
    "    '''\n",
    "    avgSlope = (inArray[-1] - inArray[0])/(len(inArray)-1)\n",
    "    return (avgSlope)\n",
    "x = np.arange(0,50,10)\n",
    "print x\n",
    "x = pd.DataFrame(x).rolling(5,min_periods=1).apply(lambda x : _meanSlope(x))\n",
    "print x.as_matrix().T"
   ]
  },
  {
   "cell_type": "code",
   "execution_count": 15,
   "metadata": {
    "collapsed": false,
    "deletable": true,
    "editable": true
   },
   "outputs": [
    {
     "name": "stdout",
     "output_type": "stream",
     "text": [
      "<listreverseiterator object at 0x7ff22345b290>\n"
     ]
    }
   ],
   "source": [
    "test = range(100)\n",
    "print reversed(test)"
   ]
  },
  {
   "cell_type": "code",
   "execution_count": 2,
   "metadata": {
    "collapsed": false,
    "deletable": true,
    "editable": true
   },
   "outputs": [],
   "source": [
    "def loadmat(filename):\n",
    "    '''\n",
    "    this function should be called instead of direct spio.loadmat\n",
    "    as it cures the problem of not properly recovering python dictionaries\n",
    "    from mat files. It calls the function check keys to cure all entries\n",
    "    which are still mat-objects\n",
    "    \n",
    "    from: `StackOverflow <http://stackoverflow.com/questions/7008608/scipy-io-loadmat-nested-structures-i-e-dictionaries>`_\n",
    "    '''\n",
    "    data = sio.loadmat(filename, struct_as_record=False, squeeze_me=True)\n",
    "    return _check_keys(data)\n",
    "\n",
    "def _check_keys(dict):\n",
    "    '''\n",
    "    checks if entries in dictionary are mat-objects. If yes\n",
    "    todict is called to change them to nested dictionaries\n",
    "    '''\n",
    "    for key in dict:\n",
    "        if isinstance(dict[key], sio.matlab.mio5_params.mat_struct):\n",
    "            dict[key] = _todict(dict[key])\n",
    "    return dict        \n",
    "\n",
    "def _todict(matobj):\n",
    "    '''\n",
    "    A recursive function which constructs from matobjects nested dictionaries\n",
    "    '''\n",
    "    dict = {}\n",
    "    for strg in matobj._fieldnames:\n",
    "        elem = matobj.__dict__[strg]\n",
    "        if isinstance(elem, sio.matlab.mio5_params.mat_struct):\n",
    "            dict[strg] = _todict(elem)\n",
    "        else:\n",
    "            dict[strg] = elem\n",
    "    return dict\n",
    "\n",
    "def createBuckets (cai1result,cai1deconvo,bucketNumber):\n",
    "    \n",
    "    '''\n",
    "    take: actual spike train, deconvolved spike train, number of buckets \n",
    "    return: n x bucketsize matrix containing firing rates in buckets, relative to the max value per trace\n",
    "    '''\n",
    "    biggernum = max(cai1result.shape)\n",
    "    smallernum = min(cai1result.shape)\n",
    "    stepWidth = (biggernum)/bucketNumber\n",
    "    caiResultBucket = np.zeros((smallernum,bucketNumber))\n",
    "    for i,col in enumerate(cai1result.T):\n",
    "        for j in range(0,bucketNumber):\n",
    "            caiResultBucket[i,j] = sum(col[j*stepWidth:j*stepWidth+stepWidth]) \n",
    "    for i in caiResultBucket:\n",
    "        i[...] = i/max(i)\n",
    "\n",
    "    biggernum = max(cai1deconvo.shape)\n",
    "    smallernum = min(cai1deconvo.shape)\n",
    "    stepWidth = biggernum/bucketNumber\n",
    "    \n",
    "    caiDeconvoBucket = np.zeros((smallernum,bucketNumber))\n",
    "    \n",
    "    for i,col in enumerate(cai1deconvo.T):\n",
    "        for j in range(0,bucketNumber):\n",
    "            caiDeconvoBucket[i,j] = sum(col[j*stepWidth:j*stepWidth+stepWidth])\n",
    "    for i in caiDeconvoBucket:\n",
    "        i[...] = i / max(i)\n",
    "\n",
    "    return(np.nan_to_num(caiResultBucket),np.nan_to_num(caiDeconvoBucket))\n",
    "\n",
    "def _loadGiniFile(fileList,path):\n",
    "    apReturn = []\n",
    "    valueList = []\n",
    "    for cell in (fileList):\n",
    "        apCollumn = _todict(loadmat(path+cell.strip())['obj']['timeSeriesArrayHash']['value'][4])['valueMatrix']\n",
    "        valueCollumn = _todict(loadmat(path+cell.strip())['obj']['timeSeriesArrayHash']['value'][0])['valueMatrix']\n",
    "        valueList.append(valueCollumn)\n",
    "        stepwidth = len(apCollumn)/len(valueCollumn)\n",
    "        apList = []\n",
    "        \n",
    "        for pos in range(len(valueCollumn)):\n",
    "            thisStep = apCollumn[pos*stepwidth:pos*stepwidth+stepwidth]\n",
    "            #thisStep = thisStep[~np.isnan(thisStep)]\n",
    "            apList.append(sum(thisStep))\n",
    "        apReturn.append(apList)\n",
    "    caiFrame = pd.DataFrame(data=apReturn,index=range(len(apReturn)))\n",
    "    valueFrame = pd.DataFrame(data=valueList,index=range(len(valueList)))\n",
    "    return(valueFrame,caiFrame)\n",
    "\n",
    "def rankByIndex(inputList):\n",
    "    # return list of same length as input, ordered after size - biggest first, smallest last\n",
    "    returnList = []\n",
    "    for i in range(len(inputList)):\n",
    "        highPos = np.argmax(inputList)\n",
    "        returnList.append(highPos)\n",
    "        inputList[highPos] = 0\n",
    "    return(returnList)"
   ]
  },
  {
   "cell_type": "code",
   "execution_count": null,
   "metadata": {
    "collapsed": true,
    "deletable": true,
    "editable": true
   },
   "outputs": [],
   "source": [
    "fileString5 = \"data_20120502_cell1_001.mat  data_20120502_cell4_002.mat  data_20120521_cell2_002.mat  data_20120521_cell4_003.mat  data_20120521_cell5_006.mat  data_20120502_cell1_002.mat  data_20120502_cell4_003.mat  data_20120521_cell2_003.mat  data_20120521_cell4_004.mat  data_20120521_cell5_007.mat  data_20120502_cell1_004.mat  data_20120510_cell1_001.mat  data_20120521_cell3_001.mat  data_20120521_cell4_005.mat  data_20120521_cell7_001.mat  data_20120502_cell1_005.mat  data_20120510_cell1_002.mat  data_20120521_cell3_002.mat  data_20120521_cell4_006.mat  data_20120521_cell7_002.mat  data_20120502_cell3_001.mat  data_20120521_cell10_002.mat  data_20120521_cell3_003.mat  data_20120521_cell4_007.mat  data_20120521_cell7_003.mat  data_20120502_cell3_002.mat  data_20120521_cell10_003.mat  data_20120521_cell3_004.mat  data_20120521_cell5_003.mat  data_20120502_cell3_003.mat  data_20120521_cell10_004.mat  data_20120521_cell3_005.mat  data_20120521_cell5_004.mat  data_20120502_cell4_001.mat  data_20120521_cell1_001.mat  data_20120521_cell4_002.mat  data_20120521_cell5_005.mat\".split(\"  \")\n",
    "path = \"/home/maximilian/unistuff/paris_ens/cal_neuroim/testData/cai-1/GCaMP6f_11cells_Chen2013/\"\n",
    "cai1_11cell13 = _loadGiniFile(fileString5,path)"
   ]
  },
  {
   "cell_type": "code",
   "execution_count": 47,
   "metadata": {
    "collapsed": false,
    "deletable": true,
    "editable": true
   },
   "outputs": [],
   "source": [
    "fileString5 = \"data_20120502_cell1_001.mat  data_20120502_cell4_002.mat  data_20120521_cell2_002.mat  data_20120521_cell4_003.mat  data_20120521_cell5_006.mat  data_20120502_cell1_002.mat  data_20120502_cell4_003.mat  data_20120521_cell2_003.mat  data_20120521_cell4_004.mat  data_20120521_cell5_007.mat  data_20120502_cell1_004.mat  data_20120510_cell1_001.mat  data_20120521_cell3_001.mat  data_20120521_cell4_005.mat  data_20120521_cell7_001.mat  data_20120502_cell1_005.mat  data_20120510_cell1_002.mat  data_20120521_cell3_002.mat  data_20120521_cell4_006.mat  data_20120521_cell7_002.mat  data_20120502_cell3_001.mat  data_20120521_cell10_002.mat  data_20120521_cell3_003.mat  data_20120521_cell4_007.mat  data_20120521_cell7_003.mat  data_20120502_cell3_002.mat  data_20120521_cell10_003.mat  data_20120521_cell3_004.mat  data_20120521_cell5_003.mat  data_20120502_cell3_003.mat  data_20120521_cell10_004.mat  data_20120521_cell3_005.mat  data_20120521_cell5_004.mat  data_20120502_cell4_001.mat  data_20120521_cell1_001.mat  data_20120521_cell4_002.mat  data_20120521_cell5_005.mat\".split(\"  \")\n",
    "path = \"/home/maximilian/unistuff/paris_ens/cal_neuroim/testData/cai-1/GCaMP6f_11cells_Chen2013/\"\n",
    "cai1_11cell13 = _loadGiniFile(fileString5,path)"
   ]
  },
  {
   "cell_type": "code",
   "execution_count": 41,
   "metadata": {
    "collapsed": true,
    "deletable": true,
    "editable": true
   },
   "outputs": [],
   "source": [
    "fileString4 = \"data_071411_cell1_005.mat  data_080311_cell2_001.mat  data_080511_cell7_002.mat  data_082611_cell2_001.mat  data_090711_cell4003.mat  data_072711_cell2_002.mat  data_080511_cell12_002.mat  data_082611_cell1_002.mat  data_090111_cell1002.mat\".split(\"  \")\n",
    "path = \"/home/maximilian/unistuff/paris_ens/cal_neuroim/testData/cai-1/GCaMP5k_9cells_Akerboom2012/\"\n",
    "cai1_9cell12 = _loadGiniFile(fileString4, path)"
   ]
  },
  {
   "cell_type": "code",
   "execution_count": 48,
   "metadata": {
    "collapsed": false,
    "deletable": true,
    "editable": true
   },
   "outputs": [],
   "source": [
    "fileString6 = \"data_20120416_cell1_001.mat  data_20120417_cell3_003.mat  data_20120515_cell1_003.mat  data_20120627_cell2_002.mat\t  data_20120627_cell4_005.mat  data_20120416_cell1_002.mat  data_20120417_cell4_001.mat  data_20120515_cell1_004.mat  data_20120627_cell3_001.mat   data_20120417_cell1_002.mat  data_20120417_cell4_002.mat  data_20120515_cell1_005.mat  data_20120627_cell3_002.mat  data_20120417_cell3_001.mat  data_20120417_cell4_003.mat  data_20120515_cell1_006.mat  data_20120627_cell4_002.mat  data_20120417_cell3_002.mat  data_20120417_cell5_002.mat  data_20120627_cell2_001.mat  data_20120627_cell4_004.mat\".split(\"  \")\n",
    "path = \"/home/maximilian/unistuff/paris_ens/cal_neuroim/testData/cai-1/GCaMP6s_9cells_Chen2013/\"\n",
    "cai1_9cell13 = _loadGiniFile(fileString6,path)"
   ]
  },
  {
   "cell_type": "code",
   "execution_count": 44,
   "metadata": {
    "collapsed": false,
    "deletable": true,
    "editable": true
   },
   "outputs": [],
   "source": [
    "#cai1_9cell12APs = (cai1_9cell12[1].as_matrix().transpose())\n",
    "#cai1_9cell12 = (cai1_9cell12[0].as_matrix().transpose())\n",
    "np.savetxt(\"/home/maximilian/unistuff/paris_ens/cal_neuroim/testData/cai-1/9cell12APs.csv\",cai1_9cell12APs,delimiter=\" \",fmt=\"%1.0f\")\n",
    "np.savetxt(\"/home/maximilian/unistuff/paris_ens/cal_neuroim/testData/cai-1/9cell12.csv\",cai1_9cell12,delimiter=\" \",fmt=\"%1.0f\")"
   ]
  },
  {
   "cell_type": "code",
   "execution_count": 100,
   "metadata": {
    "collapsed": false,
    "deletable": true,
    "editable": true
   },
   "outputs": [
    {
     "ename": "AttributeError",
     "evalue": "'numpy.ndarray' object has no attribute 'as_matrix'",
     "output_type": "error",
     "traceback": [
      "\u001b[0;31m---------------------------------------------------------------------------\u001b[0m",
      "\u001b[0;31mAttributeError\u001b[0m                            Traceback (most recent call last)",
      "\u001b[0;32m<ipython-input-100-9ec041f7fe39>\u001b[0m in \u001b[0;36m<module>\u001b[0;34m()\u001b[0m\n\u001b[0;32m----> 1\u001b[0;31m \u001b[0mcai1_9cell13APs\u001b[0m \u001b[0;34m=\u001b[0m \u001b[0;34m(\u001b[0m\u001b[0mcai1_9cell13\u001b[0m\u001b[0;34m[\u001b[0m\u001b[0;36m1\u001b[0m\u001b[0;34m]\u001b[0m\u001b[0;34m.\u001b[0m\u001b[0mas_matrix\u001b[0m\u001b[0;34m(\u001b[0m\u001b[0;34m)\u001b[0m\u001b[0;34m.\u001b[0m\u001b[0mtranspose\u001b[0m\u001b[0;34m(\u001b[0m\u001b[0;34m)\u001b[0m\u001b[0;34m)\u001b[0m\u001b[0;34m\u001b[0m\u001b[0m\n\u001b[0m\u001b[1;32m      2\u001b[0m \u001b[0mcai1_9cell13\u001b[0m \u001b[0;34m=\u001b[0m \u001b[0;34m(\u001b[0m\u001b[0mcai1_9cell13\u001b[0m\u001b[0;34m[\u001b[0m\u001b[0;36m0\u001b[0m\u001b[0;34m]\u001b[0m\u001b[0;34m.\u001b[0m\u001b[0mas_matrix\u001b[0m\u001b[0;34m(\u001b[0m\u001b[0;34m)\u001b[0m\u001b[0;34m.\u001b[0m\u001b[0mtranspose\u001b[0m\u001b[0;34m(\u001b[0m\u001b[0;34m)\u001b[0m\u001b[0;34m)\u001b[0m\u001b[0;34m\u001b[0m\u001b[0m\n\u001b[1;32m      3\u001b[0m \u001b[0mcai1_11cell13APs\u001b[0m \u001b[0;34m=\u001b[0m \u001b[0mcai1_11cell13\u001b[0m\u001b[0;34m[\u001b[0m\u001b[0;36m1\u001b[0m\u001b[0;34m]\u001b[0m\u001b[0;34m.\u001b[0m\u001b[0mas_matrix\u001b[0m\u001b[0;34m(\u001b[0m\u001b[0;34m)\u001b[0m\u001b[0;34m.\u001b[0m\u001b[0mtranspose\u001b[0m\u001b[0;34m(\u001b[0m\u001b[0;34m)\u001b[0m\u001b[0;34m\u001b[0m\u001b[0m\n\u001b[1;32m      4\u001b[0m \u001b[0mcai1_11cell13\u001b[0m \u001b[0;34m=\u001b[0m \u001b[0mcai1_11cell13\u001b[0m\u001b[0;34m[\u001b[0m\u001b[0;36m0\u001b[0m\u001b[0;34m]\u001b[0m\u001b[0;34m.\u001b[0m\u001b[0mas_matrix\u001b[0m\u001b[0;34m(\u001b[0m\u001b[0;34m)\u001b[0m\u001b[0;34m.\u001b[0m\u001b[0mtranspose\u001b[0m\u001b[0;34m(\u001b[0m\u001b[0;34m)\u001b[0m\u001b[0;34m\u001b[0m\u001b[0m\n\u001b[1;32m      5\u001b[0m \u001b[0mnp\u001b[0m\u001b[0;34m.\u001b[0m\u001b[0msavetxt\u001b[0m\u001b[0;34m(\u001b[0m\u001b[0;34m\"/home/maximilian/unistuff/paris_ens/cal_neuroim/testData/cai-1/9cell13APs.csv\"\u001b[0m\u001b[0;34m,\u001b[0m\u001b[0mcai1_9cell13APs\u001b[0m\u001b[0;34m,\u001b[0m \u001b[0mdelimiter\u001b[0m\u001b[0;34m=\u001b[0m\u001b[0;34m','\u001b[0m\u001b[0;34m,\u001b[0m\u001b[0mfmt\u001b[0m\u001b[0;34m=\u001b[0m\u001b[0;34m\"%1.0f\"\u001b[0m\u001b[0;34m)\u001b[0m\u001b[0;34m\u001b[0m\u001b[0m\n",
      "\u001b[0;31mAttributeError\u001b[0m: 'numpy.ndarray' object has no attribute 'as_matrix'"
     ]
    }
   ],
   "source": [
    "cai1_9cell13APs = (cai1_9cell13[1].as_matrix().transpose())\n",
    "cai1_9cell13 = (cai1_9cell13[0].as_matrix().transpose())\n",
    "cai1_11cell13APs = cai1_11cell13[1].as_matrix().transpose()\n",
    "cai1_11cell13 = cai1_11cell13[0].as_matrix().transpose()\n",
    "np.savetxt(\"/home/maximilian/unistuff/paris_ens/cal_neuroim/testData/cai-1/9cell13APs.csv\",cai1_9cell13APs, delimiter=',',fmt=\"%1.0f\")\n",
    "np.savetxt(\"/home/maximilian/unistuff/paris_ens/cal_neuroim/testData/cai-1/9cell13.csv\",cai1_9cell13,fmt=\"%4.3f\", delimiter=',')\n",
    "np.savetxt(\"/home/maximilian/unistuff/paris_ens/cal_neuroim/testData/cai-1/11cell13APs.csv\",cai1_11cell13APs, delimiter=',',fmt=\"%1.0f\")\n",
    "np.savetxt(\"/home/maximilian/unistuff/paris_ens/cal_neuroim/testData/cai-1/11cell13.csv\",cai1_11cell13,fmt=\"%4.3f\", delimiter=',')\n"
   ]
  },
  {
   "cell_type": "code",
   "execution_count": 36,
   "metadata": {
    "collapsed": false,
    "deletable": true,
    "editable": true
   },
   "outputs": [],
   "source": [
    "cell9ap = pd.read_csv(\"/home/maximilian/unistuff/paris_ens/cal_neuroim/testData/cai-1/9cell13APs.csv\").fillna(0).astype(int).as_matrix()\n",
    "cell11ap = pd.read_csv(\"/home/maximilian/unistuff/paris_ens/cal_neuroim/testData/cai-1/11cell13APs.csv\").fillna(0).astype(int).as_matrix()\n",
    "cell9deconvo = pd.read_csv(\"/home/maximilian/unistuff/paris_ens/cal_neuroim/testData/deconvolved9cell13Aps.csv\",sep=\" \").fillna(0).astype(int).as_matrix()\n",
    "cell11deconvo = pd.read_csv(\"/home/maximilian/unistuff/paris_ens/cal_neuroim/testData/deconvolved11cell13Aps.csv\",sep=\" \").fillna(0).astype(int).as_matrix()\n",
    "cai1result = pd.read_csv(\"/home/maximilian/unistuff/paris_ens/cal_neuroim/testData/cai-1/9cell12APs.csv\",sep=\" \").fillna(0).astype(int).as_matrix()\n",
    "cai1deconvo = pd.read_csv(\"/home/maximilian/unistuff/paris_ens/cal_neuroim/testData/deconvolvedCai1Aps.csv\",sep=\" \").fillna(0).astype(int).as_matrix()\n",
    "campdeconvo = pd.read_csv(\"/home/maximilian/unistuff/paris_ens/cal_neuroim/testData/deconvolvedCampAps.csv\",sep = \" \").fillna(0).astype(int).as_matrix()\n",
    "gecodeconvo = pd.read_csv(\"/home/maximilian/unistuff/paris_ens/cal_neuroim/testData/deconvolvedGecoAps.csv\",sep = \" \").fillna(0).astype(int).as_matrix()\n",
    "campaps = pd.read_csv(\"/home/maximilian/unistuff/paris_ens/cal_neuroim/testData/cai-2/cai2_CAMP_full_aps.csv\",sep = \" \").fillna(0).astype(int).as_matrix()\n",
    "gecoaps = pd.read_csv(\"/home/maximilian/unistuff/paris_ens/cal_neuroim/testData/cai-2/cai2_geco_full_aps.csv\",sep = \" \").fillna(0).astype(int).as_matrix()\n",
    "\n",
    "campaps = np.delete(campaps,(0),axis = 1).transpose()\n",
    "gecoaps = np.delete(gecoaps,(0),axis=1).transpose()\n",
    "gecoaps = np.delete(gecoaps,[3,5,8,19],axis=1)\n",
    "cell9ap = np.delete(cell9ap,(0),axis=1)\n",
    "cell11ap = np.delete(cell11ap,(0),axis=1)\n",
    "\n",
    "acc = []"
   ]
  },
  {
   "cell_type": "code",
   "execution_count": 15,
   "metadata": {
    "collapsed": false,
    "deletable": true,
    "editable": true
   },
   "outputs": [],
   "source": [
    "set1deconvo = pd.read_csv(\"/home/maximilian/unistuff/paris_ens/cal_neuroim/testData/deconvo1.csv\",sep=' ').fillna(0).astype(int).as_matrix()\n",
    "set2deconvo = pd.read_csv(\"/home/maximilian/unistuff/paris_ens/cal_neuroim/testData/deconvo2.csv\",sep=' ').fillna(0).astype(int).as_matrix()\n",
    "set4deconvo = pd.read_csv(\"/home/maximilian/unistuff/paris_ens/cal_neuroim/testData/deconvo4.csv\",sep=' ').fillna(0).astype(int).as_matrix()\n",
    "set5deconvo = pd.read_csv(\"/home/maximilian/unistuff/paris_ens/cal_neuroim/testData/deconvo10.csv\",sep=' ').fillna(0).astype(int).as_matrix()\n",
    "setHalfdeconvo = pd.read_csv('/home/maximilian/unistuff/paris_ens/cal_neuroim/testData/deconvoHalf.csv',sep=' ').fillna(0).astype(int).as_matrix()\n",
    "set1ap = pd.read_csv(\"/home/maximilian/unistuff/paris_ens/cal_neuroim/simdata/aps1\",sep=',').fillna(0).astype(int).as_matrix()\n",
    "set2ap = pd.read_csv(\"/home/maximilian/unistuff/paris_ens/cal_neuroim/simdata/aps2\",sep=',').fillna(0).astype(int).as_matrix()\n",
    "set4ap = pd.read_csv(\"/home/maximilian/unistuff/paris_ens/cal_neuroim/simdata/aps4\",sep=',').fillna(0).astype(int).as_matrix()\n",
    "set5ap = pd.read_csv(\"/home/maximilian/unistuff/paris_ens/cal_neuroim/simdata/aps10\",sep=',').fillna(0).astype(int).as_matrix()\n",
    "setHalfap = pd.read_csv(\"/home/maximilian/unistuff/paris_ens/cal_neuroim/simdata/apsHalf\",sep=',').fillna(0).astype(int).as_matrix()"
   ]
  },
  {
   "cell_type": "code",
   "execution_count": 168,
   "metadata": {
    "collapsed": true,
    "deletable": true,
    "editable": true
   },
   "outputs": [],
   "source": [
    "deconvo50 = pd.read_csv(\"/home/maximilian/unistuff/paris_ens/cal_neuroim/simdata/foldChanges/deconvo1\",sep=' ').fillna(0).astype(int).as_matrix()\n",
    "deconvo55 = pd.read_csv(\"/home/maximilian/unistuff/paris_ens/cal_neuroim/simdata/foldChanges/deconvo2\",sep=' ').fillna(0).astype(int).as_matrix()\n",
    "deconvo60 = pd.read_csv(\"/home/maximilian/unistuff/paris_ens/cal_neuroim/simdata/foldChanges/deconvo3\",sep=' ').fillna(0).astype(int).as_matrix()\n",
    "deconvo65 = pd.read_csv(\"/home/maximilian/unistuff/paris_ens/cal_neuroim/simdata/foldChanges/deconvo4\",sep=' ').fillna(0).astype(int).as_matrix()\n",
    "deconvo70 = pd.read_csv(\"/home/maximilian/unistuff/paris_ens/cal_neuroim/simdata/foldChanges/deconvo5\",sep=' ').fillna(0).astype(int).as_matrix()"
   ]
  },
  {
   "cell_type": "code",
   "execution_count": 169,
   "metadata": {
    "collapsed": false,
    "deletable": true,
    "editable": true,
    "scrolled": false
   },
   "outputs": [
    {
     "name": "stdout",
     "output_type": "stream",
     "text": [
      "2.06753962784\n"
     ]
    }
   ],
   "source": [
    "deconvoList = [deconvo50,deconvo55,deconvo60,deconvo65,deconvo70]\n",
    "dec = float( np.sum(deconvoList))\n",
    "real =  np.sum(np.multiply(apList2,20))\n",
    "print real/dec"
   ]
  },
  {
   "cell_type": "code",
   "execution_count": 170,
   "metadata": {
    "collapsed": false,
    "deletable": true,
    "editable": true
   },
   "outputs": [
    {
     "name": "stdout",
     "output_type": "stream",
     "text": [
      "[1, 3, 2, 0, 4]\n",
      "[4, 3, 2, 1, 0]\n"
     ]
    }
   ],
   "source": [
    "decList = [np.sum(deconvo50),np.sum(deconvo55),np.sum(deconvo60),np.sum(deconvo65),np.sum(deconvo70),]\n",
    "realList = np.multiply(apList2,20)\n",
    "print rankByIndex(decList)\n",
    "print rankByIndex(realList)"
   ]
  },
  {
   "cell_type": "code",
   "execution_count": 18,
   "metadata": {
    "collapsed": false,
    "deletable": true,
    "editable": true,
    "scrolled": true
   },
   "outputs": [
    {
     "name": "stdout",
     "output_type": "stream",
     "text": [
      "[ 54  23  72 138  55  67  63  76  26  37  61  64  37  95  37  48  51  22\n",
      "  47  25]\n",
      "[3, 13, 7, 2, 5, 11, 6, 10, 4, 0, 16, 15, 18, 9, 12, 14, 8, 19, 1, 17]\n",
      "[  39  122  363 2362  412   31  402  707  304  118  457  292  178  351   95\n",
      "  278  374  164   78   37]\n",
      "[3, 7, 10, 4, 6, 16, 2, 13, 8, 11, 15, 12, 17, 1, 9, 14, 18, 0, 19, 5]\n"
     ]
    }
   ],
   "source": [
    "deconvoActivities = [np.sum(cell9deconvo),np.sum(cell11deconvo),np.sum(cai1deconvo),np.sum(campdeconvo),np.sum(gecodeconvo)]\n",
    "realActivities = [np.sum(cell9ap),np.sum(cell11ap),np.sum(cai1result),np.sum(campaps),np.sum(gecoaps)]\n",
    "#gecoaps = np.delete(gecoaps.T,[3,5,8,19],axis=0).T\n",
    "cell9activities = sum(gecodeconvo)\n",
    "cell9real = sum(gecoaps)\n",
    "\n",
    "print cell9activities\n",
    "print rankByIndex(cell9activities)\n",
    "print cell9real\n",
    "print rankByIndex(cell9real)"
   ]
  },
  {
   "cell_type": "code",
   "execution_count": 19,
   "metadata": {
    "collapsed": false,
    "deletable": true,
    "editable": true
   },
   "outputs": [
    {
     "name": "stdout",
     "output_type": "stream",
     "text": [
      "________________________\n",
      "________________________\n",
      "________________________\n",
      "________________________\n"
     ]
    }
   ],
   "source": [
    "plt.imshow(cai1Buckets[0], cmap='hot', interpolation='spline16')\n",
    "plt.xlabel(\"AP sum over 600 frames\")\n",
    "plt.ylabel(\"Cell/ROI number\")\n",
    "plt.title(\"cai1_9cell12\")\n",
    "plt.savefig(\"cai1_9cell12true.png\")\n",
    "plt.close()\n",
    "plt.imshow(cai1Buckets[1], cmap='hot', interpolation='spline16')\n",
    "plt.ylabel(\"Cell/ROI number\")\n",
    "plt.xlabel(\"AP sum over \")\n",
    "plt.savefig(\"cai1_9cell12deconvo.png\")\n",
    "plt.close()\n",
    "\n",
    "print '________________________'\n",
    "plt.imshow(campBuckets[0], cmap='hot', interpolation='spline16')\n",
    "plt.xlabel(\"AP sum over 240 frames\")\n",
    "plt.ylabel(\"Cell/ROI number\")\n",
    "plt.title(\"cai2, camp\")\n",
    "plt.savefig(\"cai2_camptrue.png\")\n",
    "plt.close()\n",
    "plt.imshow(campBuckets[1], cmap='hot', interpolation='spline16')\n",
    "plt.savefig(\"cai2_campdeconvo.png\")\n",
    "plt.close()\n",
    "print '________________________'\n",
    "plt.imshow(gecoBuckets[0], cmap='hot', interpolation='spline16')\n",
    "plt.xlabel(\"AP sum over 480 frames\")\n",
    "plt.title(\"cai2, geco\")\n",
    "plt.ylabel(\"Cell/ROI number\")\n",
    "plt.savefig(\"cai2_gecotrue.png\")\n",
    "plt.close()\n",
    "plt.imshow(gecoBuckets[1], cmap='hot', interpolation='spline16')\n",
    "plt.savefig(\"cai2_gecodeconvo.png\")\n",
    "plt.close()\n",
    "print '________________________'\n",
    "plt.imshow(cell9resultBucket, cmap='hot', interpolation='spline16')\n",
    "plt.xlabel(\"AP sum over 480 frames\")\n",
    "plt.ylabel(\"Cell/ROI number\")\n",
    "plt.title(\"cell9, electrode vs. deconvo\")\n",
    "plt.savefig(\"cai1_9cell13true.png\")\n",
    "plt.close()\n",
    "plt.imshow(cell9deconvoBucket, cmap='hot', interpolation='spline16')\n",
    "plt.savefig(\"cai1_9cell13deconvo.png\")\n",
    "plt.close()\n",
    "\n",
    "print '________________________'\n",
    "plt.imshow(cell11resultBucket, cmap='hot', interpolation='spline16')\n",
    "plt.xlabel(\"AP sum over 480 frames\")\n",
    "plt.ylabel(\"Cell/ROI number\")\n",
    "plt.title(\"cell11, electrode vs. deconvo\")\n",
    "plt.savefig(\"cai1_11cell13true.png\")\n",
    "plt.close()\n",
    "plt.imshow(cell11deconvoBucket, cmap='hot', interpolation='spline16')\n",
    "plt.savefig(\"cai1_11cell13deconvo.png\")\n",
    "plt.close()\n"
   ]
  },
  {
   "cell_type": "code",
   "execution_count": 126,
   "metadata": {
    "collapsed": false,
    "deletable": true,
    "editable": true,
    "scrolled": true
   },
   "outputs": [],
   "source": [
    "#code used for creation of set1 of simulated data\n",
    "\n",
    "def alphaKernel (t, A,t_A,t_B):\n",
    "    return np.float64(A*(np.exp(-t/t_A)-np.exp(-t/t_B)))\n",
    "\n",
    "\n",
    "simFiles = ['/home/maximilian/unistuff/paris_ens/cal_neuroim/simdata/foldChanges/facHalf',\n",
    "            '/home/maximilian/unistuff/paris_ens/cal_neuroim/simdata/foldChanges/fac1',\n",
    "           '/home/maximilian/unistuff/paris_ens/cal_neuroim/simdata/foldChanges/fac1.5',\n",
    "            '/home/maximilian/unistuff/paris_ens/cal_neuroim/simdata/foldChanges/fac2',\n",
    "           '/home/maximilian/unistuff/paris_ens/cal_neuroim/simdata/foldChanges/fac2.5']\n",
    "apList2 = [150,180,210,240,270]\n",
    "\n",
    "for x in range(len(simFiles)):\n",
    "    xMatrix = np.ndarray(shape=(100000,9),dtype='float32')\n",
    "    apMatrix = np.zeros(shape=(100000,9),dtype='int')\n",
    "    apList = []\n",
    "    pos = -1\n",
    "    for i in np.nditer(xMatrix,order='F',flags=['external_loop'],op_flags=['writeonly']):\n",
    "        pos += 1\n",
    "        localAPlist = []\n",
    "        xtest = np.repeat(400,100000.)\n",
    "        xnoise = 80. * np.random.normal(size = xtest.size)\n",
    "        #xDrift = np.concatenate((np.arange(2000,0,-1),np.repeat(0,3000)))\n",
    "        xtest = xtest +xnoise\n",
    "        #apNumber = int(np.random.normal(loc=4,scale = 2)*0.5*i)\n",
    "        apNumber = apList2[x]\n",
    "        for j in range(apNumber):\n",
    "            xdata = np.arange(0,int(400*np.random.normal(loc=1,scale=0.3)),1.)\n",
    "            y = (alphaKernel(xdata,np.random.normal(loc=5,scale=0.3) * 400,\n",
    "                            30* np.random.normal(loc=4,scale=1),10*np.random.normal(loc=4,scale=1)))\n",
    "            APposition = int(np.random.sample(size=1)* 99000)\n",
    "            apMatrix[APposition][pos] += 1\n",
    "            APend = APposition + y.size \n",
    "            if(APend > xtest.size):\n",
    "                y.resize(xtest.size-APposition)\n",
    "            xtest[APposition:APend] = xtest[APposition:APend] + y\n",
    "            if (APend < 99000 and xtest[APend] - xtest[APend+1] > 80 ):\n",
    "                corrector = np.arange(xtest[APend] - xtest[APend+1],0,-10)\n",
    "                if(APend+ corrector.size > xtest.size):\n",
    "                    corrector.resize(xtest.size-APend)\n",
    "                xtest[APend:APend+corrector.size] = xtest[APend:APend+corrector.size] + corrector\n",
    "        i[...] = xtest\n",
    "        apList.append(sorted(localAPlist))\n",
    "\n",
    "    np.savetxt(simFiles[x],xMatrix,delimiter=',',fmt='%4.6f')\n",
    "\n",
    "    #np.savetxt('/home/maximilian/unistuff/paris_ens/cal_neuroim/simdata/apsHalf',apMatrix,delimiter=',',fmt='%1.f')"
   ]
  },
  {
   "cell_type": "code",
   "execution_count": 164,
   "metadata": {
    "collapsed": false,
    "deletable": true,
    "editable": true
   },
   "outputs": [
    {
     "name": "stdout",
     "output_type": "stream",
     "text": [
      "[0, 2, 4, 6, 8, 10, 12, 14, 16, 18, 20, 22, 24, 26, 28, 30, 32, 34, 36, 38]\n"
     ]
    }
   ],
   "source": [
    "testrange = range(20)\n",
    "for i,val in enumerate(testrange):\n",
    "    testrange[i] += \n",
    "print testrange"
   ]
  },
  {
   "cell_type": "code",
   "execution_count": 43,
   "metadata": {
    "collapsed": false,
    "deletable": true,
    "editable": true,
    "scrolled": true
   },
   "outputs": [
    {
     "name": "stdout",
     "output_type": "stream",
     "text": [
      "[1835.7959987054762, 2231.5499289338036, 2016.5688714369714, 1844.6903180244822, 2248.072070418118] [77.49949957132353, 113.24314477317957, 144.74707480478946, 102.13289336427091, 147.8347101632229] [54.98610979846562, 34.982240911390775, 53.89255332087763, 23.90595014254043, 41.40430022612339]\n"
     ]
    },
    {
     "data": {
      "image/png": "[encoded data removed]",
      "text/plain": [
       "<matplotlib.figure.Figure at 0x7fee9a1e8e50>"
      ]
     },
     "metadata": {},
     "output_type": "display_data"
    }
   ],
   "source": [
    "set1,set2,set3 = list(),list(),list()\n",
    "for i in range(5):\n",
    "    xdata = np.arange(0,int(500*np.random.normal(loc=1,scale=0.3)),1.)\n",
    "    set1.append(400*np.random.normal(loc=5,scale=0.3))\n",
    "    set2.append(30* np.random.normal(loc=4,scale=1))\n",
    "    set3.append(10*np.random.normal(loc=4,scale=1))\n",
    "    y = (alphaKernel(xdata,set1[i],set2[i],set3[i]))\n",
    "    plt.plot(y,'grey',alpha=0.4)\n",
    "plt.xlabel(\"Time elapsed(in frames)\")\n",
    "plt.ylabel(\"Relative fluorescence signal(normalized)\")\n",
    "plt.savefig('alphakernel')\n",
    "print set1,set2,set3"
   ]
  }
 ],
 "metadata": {
  "kernelspec": {
   "display_name": "Python 2",
   "language": "python",
   "name": "python2"
  },
  "language_info": {
   "codemirror_mode": {
    "name": "ipython",
    "version": 2
   },
   "file_extension": ".py",
   "mimetype": "text/x-python",
   "name": "python",
   "nbconvert_exporter": "python",
   "pygments_lexer": "ipython2",
   "version": "2.7.6"
  }
 },
 "nbformat": 4,
 "nbformat_minor": 2
}
